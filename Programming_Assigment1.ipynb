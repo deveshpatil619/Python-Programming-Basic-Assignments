{
 "cells": [
  {
   "cell_type": "markdown",
   "id": "11e5b2c7",
   "metadata": {},
   "source": [
    "1.Write a Python program to print \"Hello Python\"?\n"
   ]
  },
  {
   "cell_type": "code",
   "execution_count": 4,
   "id": "afbcec7c",
   "metadata": {},
   "outputs": [
    {
     "name": "stdout",
     "output_type": "stream",
     "text": [
      "Hello Python\n"
     ]
    }
   ],
   "source": [
    "\n",
    "def Hello_World():\n",
    "    print(\"Hello Python\")\n",
    "    \n",
    "Hello_World()"
   ]
  },
  {
   "cell_type": "markdown",
   "id": "83978a4d",
   "metadata": {},
   "source": [
    "2.Write a Python program to do arithmetical operations addition and division.?\n"
   ]
  },
  {
   "cell_type": "code",
   "execution_count": 7,
   "id": "a92f9bf7",
   "metadata": {},
   "outputs": [
    {
     "name": "stdout",
     "output_type": "stream",
     "text": [
      "Addition=15 and Division=0.5\n"
     ]
    }
   ],
   "source": [
    "def add_div(num1,num2):\n",
    "    add = num1+num2\n",
    "    div = num1/num2\n",
    "    print(f\"Addition={add} and Division={div}\")\n",
    "    \n",
    "add_div(5,10)"
   ]
  },
  {
   "cell_type": "markdown",
   "id": "89d6c349",
   "metadata": {},
   "source": [
    "3.Write a Python program to find the area of a triangle?\n"
   ]
  },
  {
   "cell_type": "code",
   "execution_count": 11,
   "id": "38865e09",
   "metadata": {},
   "outputs": [
    {
     "name": "stdout",
     "output_type": "stream",
     "text": [
      "10.5\n"
     ]
    }
   ],
   "source": [
    "def triangle(base,height):\n",
    "    Area = 1/2*(base*height)\n",
    "    print(Area)\n",
    "    \n",
    "triangle(3,7)"
   ]
  },
  {
   "cell_type": "markdown",
   "id": "8728930a",
   "metadata": {},
   "source": [
    "4.Write a Python program to swap two variables?\n"
   ]
  },
  {
   "cell_type": "code",
   "execution_count": 15,
   "id": "31404800",
   "metadata": {},
   "outputs": [
    {
     "name": "stdout",
     "output_type": "stream",
     "text": [
      "After swapping = 3,2\n"
     ]
    }
   ],
   "source": [
    "\n",
    "def swap(num1,num2):\n",
    "    num1,num2=num2,num1\n",
    "    print(f\"After swapping = {num1},{num2}\")\n",
    "    \n",
    "swap(2,3)"
   ]
  },
  {
   "cell_type": "markdown",
   "id": "0f8e0c9f",
   "metadata": {},
   "source": [
    "5.Write a Python program to generate a random number?\n"
   ]
  },
  {
   "cell_type": "code",
   "execution_count": 28,
   "id": "1cbf8a22",
   "metadata": {},
   "outputs": [
    {
     "name": "stdout",
     "output_type": "stream",
     "text": [
      "0.6497063852410412\n",
      "9\n"
     ]
    }
   ],
   "source": [
    "import random\n",
    "\n",
    "def rnd():\n",
    "    n = random.random()\n",
    "    m = random.randint(1,34)\n",
    "    print(n)\n",
    "    print(m)\n",
    "    \n",
    "rnd()"
   ]
  },
  {
   "cell_type": "code",
   "execution_count": null,
   "id": "b44d35d4",
   "metadata": {},
   "outputs": [],
   "source": []
  }
 ],
 "metadata": {
  "kernelspec": {
   "display_name": "Python 3 (ipykernel)",
   "language": "python",
   "name": "python3"
  },
  "language_info": {
   "codemirror_mode": {
    "name": "ipython",
    "version": 3
   },
   "file_extension": ".py",
   "mimetype": "text/x-python",
   "name": "python",
   "nbconvert_exporter": "python",
   "pygments_lexer": "ipython3",
   "version": "3.7.13"
  }
 },
 "nbformat": 4,
 "nbformat_minor": 5
}
