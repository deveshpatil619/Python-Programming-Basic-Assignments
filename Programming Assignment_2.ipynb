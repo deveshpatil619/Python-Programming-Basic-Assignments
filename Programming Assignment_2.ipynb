{
 "cells": [
  {
   "cell_type": "code",
   "execution_count": null,
   "id": "a95eaf0d",
   "metadata": {},
   "outputs": [],
   "source": []
  },
  {
   "cell_type": "markdown",
   "id": "34bc5d2e",
   "metadata": {},
   "source": [
    "1. Write a Python program to convert kilometers to miles?\n"
   ]
  },
  {
   "cell_type": "code",
   "execution_count": 2,
   "id": "e1064779",
   "metadata": {},
   "outputs": [
    {
     "name": "stdout",
     "output_type": "stream",
     "text": [
      "The km 9 has been converted to mile 5.589\n"
     ]
    }
   ],
   "source": [
    "def converse(value):\n",
    "    value1 = value*(0.621)\n",
    "    print(f\"The km {value} has been converted to mile {value1}\")\n",
    "    \n",
    "converse(9)"
   ]
  },
  {
   "cell_type": "markdown",
   "id": "79192376",
   "metadata": {},
   "source": [
    "2. Write a Python program to convert Celsius to Fahrenheit?\n"
   ]
  },
  {
   "cell_type": "code",
   "execution_count": 4,
   "id": "eee168b9",
   "metadata": {},
   "outputs": [
    {
     "name": "stdout",
     "output_type": "stream",
     "text": [
      "The degree 100 has been converted to fahrenheit 212.0\n"
     ]
    }
   ],
   "source": [
    "def temperature(value):\n",
    "    value1 = (value*9/5)+32\n",
    "    print(f\"The degree {value} has been converted to fahrenheit {value1}\")\n",
    "    \n",
    "temperature (100)"
   ]
  },
  {
   "cell_type": "markdown",
   "id": "e715c6bd",
   "metadata": {},
   "source": [
    "3. Write a Python program to display calendar?\n"
   ]
  },
  {
   "cell_type": "code",
   "execution_count": 8,
   "id": "06d950c1",
   "metadata": {},
   "outputs": [
    {
     "name": "stdout",
     "output_type": "stream",
     "text": [
      "      May 2020\n",
      "Mo Tu We Th Fr Sa Su\n",
      "             1  2  3\n",
      " 4  5  6  7  8  9 10\n",
      "11 12 13 14 15 16 17\n",
      "18 19 20 21 22 23 24\n",
      "25 26 27 28 29 30 31\n",
      "\n",
      "                                  2021\n",
      "\n",
      "      January                   February                   March\n",
      "Mo Tu We Th Fr Sa Su      Mo Tu We Th Fr Sa Su      Mo Tu We Th Fr Sa Su\n",
      "             1  2  3       1  2  3  4  5  6  7       1  2  3  4  5  6  7\n",
      " 4  5  6  7  8  9 10       8  9 10 11 12 13 14       8  9 10 11 12 13 14\n",
      "11 12 13 14 15 16 17      15 16 17 18 19 20 21      15 16 17 18 19 20 21\n",
      "18 19 20 21 22 23 24      22 23 24 25 26 27 28      22 23 24 25 26 27 28\n",
      "25 26 27 28 29 30 31                                29 30 31\n",
      "\n",
      "       April                      May                       June\n",
      "Mo Tu We Th Fr Sa Su      Mo Tu We Th Fr Sa Su      Mo Tu We Th Fr Sa Su\n",
      "          1  2  3  4                      1  2          1  2  3  4  5  6\n",
      " 5  6  7  8  9 10 11       3  4  5  6  7  8  9       7  8  9 10 11 12 13\n",
      "12 13 14 15 16 17 18      10 11 12 13 14 15 16      14 15 16 17 18 19 20\n",
      "19 20 21 22 23 24 25      17 18 19 20 21 22 23      21 22 23 24 25 26 27\n",
      "26 27 28 29 30            24 25 26 27 28 29 30      28 29 30\n",
      "                          31\n",
      "\n",
      "        July                     August                  September\n",
      "Mo Tu We Th Fr Sa Su      Mo Tu We Th Fr Sa Su      Mo Tu We Th Fr Sa Su\n",
      "          1  2  3  4                         1             1  2  3  4  5\n",
      " 5  6  7  8  9 10 11       2  3  4  5  6  7  8       6  7  8  9 10 11 12\n",
      "12 13 14 15 16 17 18       9 10 11 12 13 14 15      13 14 15 16 17 18 19\n",
      "19 20 21 22 23 24 25      16 17 18 19 20 21 22      20 21 22 23 24 25 26\n",
      "26 27 28 29 30 31         23 24 25 26 27 28 29      27 28 29 30\n",
      "                          30 31\n",
      "\n",
      "      October                   November                  December\n",
      "Mo Tu We Th Fr Sa Su      Mo Tu We Th Fr Sa Su      Mo Tu We Th Fr Sa Su\n",
      "             1  2  3       1  2  3  4  5  6  7             1  2  3  4  5\n",
      " 4  5  6  7  8  9 10       8  9 10 11 12 13 14       6  7  8  9 10 11 12\n",
      "11 12 13 14 15 16 17      15 16 17 18 19 20 21      13 14 15 16 17 18 19\n",
      "18 19 20 21 22 23 24      22 23 24 25 26 27 28      20 21 22 23 24 25 26\n",
      "25 26 27 28 29 30 31      29 30                     27 28 29 30 31\n",
      "\n"
     ]
    }
   ],
   "source": [
    "## python has inbuilt function calendar\n",
    "\n",
    "import calendar  ## importing calendar library\n",
    "\n",
    "yy = 2020  ## yy for year\n",
    "mm = 5      ## mm for month\n",
    "print(calendar.month(yy,mm))\n",
    "\n",
    "yy= 2021\n",
    "\n",
    "print(calendar.calendar(yy))\n",
    "    "
   ]
  },
  {
   "cell_type": "markdown",
   "id": "8098e353",
   "metadata": {},
   "source": [
    "4. Write a Python program to solve quadratic equation?\n",
    "\n",
    "\n",
    "    ax2 + bx + c = 0, where\n",
    "    a, b and c are real numbers and\n",
    "    a ≠ 0\n",
    "\n",
    "\n",
    "\n",
    "    (-b ± (b ** 2 - 4 * a * c) ** 0.5) / (2 * a)\n"
   ]
  },
  {
   "cell_type": "code",
   "execution_count": 14,
   "id": "bcc96a50",
   "metadata": {},
   "outputs": [
    {
     "name": "stdout",
     "output_type": "stream",
     "text": [
      "Quadratic equations are (-4+1.4142135623730951j) and (-4-1.4142135623730951j)\n"
     ]
    }
   ],
   "source": [
    "import cmath\n",
    "\n",
    "def quad(a,b,c):\n",
    "    d = (b**2)-(4*a*c)\n",
    "    sol1 = -b+cmath.sqrt(d)/2*a\n",
    "    sol2 = -b-cmath.sqrt(d)/2*a\n",
    "    \n",
    "    print(f\"Quadratic equations are {sol1} and {sol2}\")\n",
    "    \n",
    "    \n",
    "quad(1,4,6)"
   ]
  },
  {
   "cell_type": "markdown",
   "id": "f6cac14f",
   "metadata": {},
   "source": [
    "5. Write a Python program to swap two variables without temp variable?"
   ]
  },
  {
   "cell_type": "code",
   "execution_count": 17,
   "id": "6423d039",
   "metadata": {},
   "outputs": [
    {
     "name": "stdout",
     "output_type": "stream",
     "text": [
      "swapped numbers are 6 and 4\n"
     ]
    }
   ],
   "source": [
    "def swappy(num1,num2):\n",
    "    num1,num2=num2,num1\n",
    "    print(f\"swapped numbers are {num1} and {num2}\")\n",
    "    \n",
    "swappy(4,6)"
   ]
  },
  {
   "cell_type": "code",
   "execution_count": null,
   "id": "9ab37d55",
   "metadata": {},
   "outputs": [],
   "source": []
  }
 ],
 "metadata": {
  "kernelspec": {
   "display_name": "Python 3 (ipykernel)",
   "language": "python",
   "name": "python3"
  },
  "language_info": {
   "codemirror_mode": {
    "name": "ipython",
    "version": 3
   },
   "file_extension": ".py",
   "mimetype": "text/x-python",
   "name": "python",
   "nbconvert_exporter": "python",
   "pygments_lexer": "ipython3",
   "version": "3.7.13"
  }
 },
 "nbformat": 4,
 "nbformat_minor": 5
}
